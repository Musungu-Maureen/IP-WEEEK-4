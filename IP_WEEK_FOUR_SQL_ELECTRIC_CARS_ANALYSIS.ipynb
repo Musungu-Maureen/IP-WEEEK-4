{
  "nbformat": 4,
  "nbformat_minor": 0,
  "metadata": {
    "colab": {
      "name": "IP_WEEK_FOUR_SQL_ELECTRIC_CARS_ANALYSIS",
      "provenance": [],
      "authorship_tag": "ABX9TyOBZK5pZVc8XEt2QOnNyzXB",
      "include_colab_link": true
    },
    "kernelspec": {
      "name": "python3",
      "display_name": "Python 3"
    },
    "language_info": {
      "name": "python"
    }
  },
  "cells": [
    {
      "cell_type": "markdown",
      "metadata": {
        "id": "view-in-github",
        "colab_type": "text"
      },
      "source": [
        "<a href=\"https://colab.research.google.com/github/Musungu-Maureen/IP-WEEEK-4/blob/main/IP_WEEK_FOUR_SQL_ELECTRIC_CARS_ANALYSIS.ipynb\" target=\"_parent\"><img src=\"https://colab.research.google.com/assets/colab-badge.svg\" alt=\"Open In Colab\"/></a>"
      ]
    },
    {
      "cell_type": "code",
      "metadata": {
        "colab": {
          "base_uri": "https://localhost:8080/",
          "height": 69
        },
        "id": "eZwVACzt3Wbr",
        "outputId": "85f212cf-3832-4fa7-ccb0-ed404af09c27"
      },
      "source": [
        "# Loading our extension\n",
        "%load_ext sql\n",
        "\n",
        "# Loading our in memory sqlite database\n",
        "%sql sqlite://"
      ],
      "execution_count": 26,
      "outputs": [
        {
          "output_type": "stream",
          "text": [
            "The sql extension is already loaded. To reload it, use:\n",
            "  %reload_ext sql\n"
          ],
          "name": "stdout"
        },
        {
          "output_type": "execute_result",
          "data": {
            "application/vnd.google.colaboratory.intrinsic+json": {
              "type": "string"
            },
            "text/plain": [
              "'Connected: @None'"
            ]
          },
          "metadata": {
            "tags": []
          },
          "execution_count": 26
        }
      ]
    },
    {
      "cell_type": "code",
      "metadata": {
        "colab": {
          "base_uri": "https://localhost:8080/",
          "height": 86
        },
        "id": "FJkUoWgU4bDE",
        "outputId": "f7bb83d4-e5d8-4cf1-e4a9-abd790bb8a6f"
      },
      "source": [
        "# First importing the libraries we shall be using \n",
        "import pandas as pd\n",
        "\n",
        "# Loading our Final_Autolib dataset\n",
        "with open('Final_Autolib.csv','r') as f:\n",
        "    BlueCars = pd.read_csv(f, index_col=0, encoding='utf-8')\n",
        "\n",
        "\n",
        "# Saving the Final Autolib CSV file into a database\n",
        "%sql DROP TABLE if EXISTS BlueCars;\n",
        "%sql PERSIST BlueCars;\n"
      ],
      "execution_count": 6,
      "outputs": [
        {
          "output_type": "stream",
          "text": [
            " * sqlite://\n",
            "Done.\n",
            " * sqlite://\n"
          ],
          "name": "stdout"
        },
        {
          "output_type": "execute_result",
          "data": {
            "application/vnd.google.colaboratory.intrinsic+json": {
              "type": "string"
            },
            "text/plain": [
              "'Persisted bluecars'"
            ]
          },
          "metadata": {
            "tags": []
          },
          "execution_count": 6
        }
      ]
    },
    {
      "cell_type": "code",
      "metadata": {
        "colab": {
          "base_uri": "https://localhost:8080/",
          "height": 93
        },
        "id": "L7EERGq364w6",
        "outputId": "100947f7-e437-4d1d-9ee0-a1208ba87fd7"
      },
      "source": [
        "# The most popular hour of the day for picking up a Bluecar in the city of Paris over the month of April 2018.\n",
        "%%sql\n",
        "SELECT City, hour, COUNT(hour)\n",
        "FROM BlueCars\n",
        "WHERE City = \"Paris\" AND month = 4\n",
        "GROUP BY hour\n",
        "ORDER BY count(hour)\n",
        "DESC LIMIT 1;"
      ],
      "execution_count": 16,
      "outputs": [
        {
          "output_type": "stream",
          "text": [
            " * sqlite://\n",
            "Done.\n"
          ],
          "name": "stdout"
        },
        {
          "output_type": "execute_result",
          "data": {
            "text/html": [
              "<table>\n",
              "    <thead>\n",
              "        <tr>\n",
              "            <th>City</th>\n",
              "            <th>hour</th>\n",
              "            <th>COUNT(hour)</th>\n",
              "        </tr>\n",
              "    </thead>\n",
              "    <tbody>\n",
              "        <tr>\n",
              "            <td>Paris</td>\n",
              "            <td>21</td>\n",
              "            <td>147</td>\n",
              "        </tr>\n",
              "    </tbody>\n",
              "</table>"
            ],
            "text/plain": [
              "[('Paris', 21, 147)]"
            ]
          },
          "metadata": {
            "tags": []
          },
          "execution_count": 16
        }
      ]
    },
    {
      "cell_type": "code",
      "metadata": {
        "colab": {
          "base_uri": "https://localhost:8080/",
          "height": 93
        },
        "id": "wKDa9ha_79u8",
        "outputId": "e6d84c3f-0956-4a5c-ac81-b1c3db1d623c"
      },
      "source": [
        "# The most popular hour for returning cars\n",
        "%%sql\n",
        "SELECT hour, COUNT(hour)\n",
        "FROM BlueCars\n",
        "WHERE Slots > 0\n",
        "GROUP BY hour\n",
        "ORDER BY COUNT(hour)\n",
        "DESC LIMIT 1;"
      ],
      "execution_count": 15,
      "outputs": [
        {
          "output_type": "stream",
          "text": [
            " * sqlite://\n",
            "Done.\n"
          ],
          "name": "stdout"
        },
        {
          "output_type": "execute_result",
          "data": {
            "text/html": [
              "<table>\n",
              "    <thead>\n",
              "        <tr>\n",
              "            <th>hour</th>\n",
              "            <th>COUNT(hour)</th>\n",
              "        </tr>\n",
              "    </thead>\n",
              "    <tbody>\n",
              "        <tr>\n",
              "            <td>16</td>\n",
              "            <td>152</td>\n",
              "        </tr>\n",
              "    </tbody>\n",
              "</table>"
            ],
            "text/plain": [
              "[(16, 152)]"
            ]
          },
          "metadata": {
            "tags": []
          },
          "execution_count": 15
        }
      ]
    },
    {
      "cell_type": "code",
      "metadata": {
        "colab": {
          "base_uri": "https://localhost:8080/",
          "height": 93
        },
        "id": "bb5OhQoD9fIs",
        "outputId": "458f6a08-d965-43f8-a00b-872a91f67a2c"
      },
      "source": [
        "# Most popular Station\n",
        "%%sql\n",
        "SELECT \"Public name\",\"City\", COUNT(\"Station type\")\n",
        "FROM BlueCars\n",
        "GROUP BY \"Station type\"\n",
        "ORDER BY COUNT(\"Station type\")\n",
        "DESC LIMIT 1;"
      ],
      "execution_count": 27,
      "outputs": [
        {
          "output_type": "stream",
          "text": [
            " * sqlite://\n",
            "Done.\n"
          ],
          "name": "stdout"
        },
        {
          "output_type": "execute_result",
          "data": {
            "text/html": [
              "<table>\n",
              "    <thead>\n",
              "        <tr>\n",
              "            <th>Public name</th>\n",
              "            <th>City</th>\n",
              "            <th>COUNT(&quot;Station type&quot;)</th>\n",
              "        </tr>\n",
              "    </thead>\n",
              "    <tbody>\n",
              "        <tr>\n",
              "            <td>Paris/Henry Brisson/5</td>\n",
              "            <td>Paris</td>\n",
              "            <td>4615</td>\n",
              "        </tr>\n",
              "    </tbody>\n",
              "</table>"
            ],
            "text/plain": [
              "[('Paris/Henry Brisson/5', 'Paris', 4615)]"
            ]
          },
          "metadata": {
            "tags": []
          },
          "execution_count": 27
        }
      ]
    },
    {
      "cell_type": "code",
      "metadata": {
        "colab": {
          "base_uri": "https://localhost:8080/",
          "height": 93
        },
        "id": "DHtZwYUM-XsM",
        "outputId": "a8e06322-6497-4ea4-c3a5-f70e0157a945"
      },
      "source": [
        "# Most Popular station at the most popular picking hour \n",
        "%%sql\n",
        "SELECT \"Public name\", COUNT(\"Station type\")\n",
        "FROM BlueCars\n",
        "WHERE \"hour\" = 21\n",
        "GROUP BY \"Station type\"\n",
        "ORDER BY COUNT(\"Station type\")\n",
        "DESC LIMIT 1;"
      ],
      "execution_count": 29,
      "outputs": [
        {
          "output_type": "stream",
          "text": [
            " * sqlite://\n",
            "Done.\n"
          ],
          "name": "stdout"
        },
        {
          "output_type": "execute_result",
          "data": {
            "text/html": [
              "<table>\n",
              "    <thead>\n",
              "        <tr>\n",
              "            <th>Public name</th>\n",
              "            <th>COUNT(&quot;Station type&quot;)</th>\n",
              "        </tr>\n",
              "    </thead>\n",
              "    <tbody>\n",
              "        <tr>\n",
              "            <td>Paris/HÃ´pital/47</td>\n",
              "            <td>220</td>\n",
              "        </tr>\n",
              "    </tbody>\n",
              "</table>"
            ],
            "text/plain": [
              "[('Paris/HÃ´pital/47', 220)]"
            ]
          },
          "metadata": {
            "tags": []
          },
          "execution_count": 29
        }
      ]
    },
    {
      "cell_type": "code",
      "metadata": {
        "colab": {
          "base_uri": "https://localhost:8080/",
          "height": 93
        },
        "id": "IiW9dGQSDLXI",
        "outputId": "7dfccbe7-e48b-4d01-e6b5-0287978d9af9"
      },
      "source": [
        "#Most popular postal code for picking up Blue cars\n",
        "%%sql\n",
        "SELECT \"Postal Code\", \"Public name\", COUNT(\"Postal Code\")\n",
        "FROM BlueCars\n",
        "WHERE \"Slots\" < 7 AND \"Bluecar counter\" > 0\n",
        "GROUP BY \"Postal Code\"\n",
        "ORDER BY COUNT(\"Postal Code\")\n",
        "DESC LIMIT 1;\n"
      ],
      "execution_count": 19,
      "outputs": [
        {
          "output_type": "stream",
          "text": [
            " * sqlite://\n",
            "Done.\n"
          ],
          "name": "stdout"
        },
        {
          "output_type": "execute_result",
          "data": {
            "text/html": [
              "<table>\n",
              "    <thead>\n",
              "        <tr>\n",
              "            <th>Postal code</th>\n",
              "            <th>Public name</th>\n",
              "            <th>COUNT(&quot;Postal Code&quot;)</th>\n",
              "        </tr>\n",
              "    </thead>\n",
              "    <tbody>\n",
              "        <tr>\n",
              "            <td>75015</td>\n",
              "            <td>Paris/Dantzig/37</td>\n",
              "            <td>195</td>\n",
              "        </tr>\n",
              "    </tbody>\n",
              "</table>"
            ],
            "text/plain": [
              "[(75015, 'Paris/Dantzig/37', 195)]"
            ]
          },
          "metadata": {
            "tags": []
          },
          "execution_count": 19
        }
      ]
    },
    {
      "cell_type": "code",
      "metadata": {
        "colab": {
          "base_uri": "https://localhost:8080/",
          "height": 93
        },
        "id": "2Cr2Flm9EXzY",
        "outputId": "0cc9ecf2-b562-409e-921f-fd771010eef2"
      },
      "source": [
        "# Most popular postal code for picking blue cars at the most popular hour\n",
        "%%sql\n",
        "SELECT \"Postal Code\", \"Public name\", COUNT(\"Postal Code\")\n",
        "FROM BlueCars\n",
        "WHERE \"Slots\" < 7 AND \"Bluecar counter\" > 0 AND \"hour\" = 21\n",
        "GROUP BY \"Postal Code\"\n",
        "ORDER BY COUNT(\"Postal Code\")\n",
        "DESC LIMIT 1;"
      ],
      "execution_count": 22,
      "outputs": [
        {
          "output_type": "stream",
          "text": [
            " * sqlite://\n",
            "Done.\n"
          ],
          "name": "stdout"
        },
        {
          "output_type": "execute_result",
          "data": {
            "text/html": [
              "<table>\n",
              "    <thead>\n",
              "        <tr>\n",
              "            <th>Postal code</th>\n",
              "            <th>Public name</th>\n",
              "            <th>COUNT(&quot;Postal Code&quot;)</th>\n",
              "        </tr>\n",
              "    </thead>\n",
              "    <tbody>\n",
              "        <tr>\n",
              "            <td>75014</td>\n",
              "            <td>Paris/Porte de Montrouge/8</td>\n",
              "            <td>12</td>\n",
              "        </tr>\n",
              "    </tbody>\n",
              "</table>"
            ],
            "text/plain": [
              "[(75014, 'Paris/Porte de Montrouge/8', 12)]"
            ]
          },
          "metadata": {
            "tags": []
          },
          "execution_count": 22
        }
      ]
    },
    {
      "cell_type": "code",
      "metadata": {
        "colab": {
          "base_uri": "https://localhost:8080/",
          "height": 93
        },
        "id": "lx33rcvhHENs",
        "outputId": "436ac8bb-a121-4697-d434-87ae5ca34311"
      },
      "source": [
        "#Do the results change if you consider Utilib and Utilib 1.4 instead of Blue cars? \n",
        "# Utilib cars\n",
        "%%sql\n",
        "SELECT \"Postal Code\", \"Public name\", COUNT(\"Postal Code\")\n",
        "FROM BlueCars\n",
        "WHERE \"Slots\" < 7 AND \"Utilib counter\" > 0 AND \"hour\" = 21\n",
        "GROUP BY \"Postal Code\"\n",
        "ORDER BY COUNT(\"Postal Code\")\n",
        "DESC LIMIT 1;"
      ],
      "execution_count": 24,
      "outputs": [
        {
          "output_type": "stream",
          "text": [
            " * sqlite://\n",
            "Done.\n"
          ],
          "name": "stdout"
        },
        {
          "output_type": "execute_result",
          "data": {
            "text/html": [
              "<table>\n",
              "    <thead>\n",
              "        <tr>\n",
              "            <th>Postal code</th>\n",
              "            <th>Public name</th>\n",
              "            <th>COUNT(&quot;Postal Code&quot;)</th>\n",
              "        </tr>\n",
              "    </thead>\n",
              "    <tbody>\n",
              "        <tr>\n",
              "            <td>75014</td>\n",
              "            <td>Paris/Porte de Montrouge/8</td>\n",
              "            <td>5</td>\n",
              "        </tr>\n",
              "    </tbody>\n",
              "</table>"
            ],
            "text/plain": [
              "[(75014, 'Paris/Porte de Montrouge/8', 5)]"
            ]
          },
          "metadata": {
            "tags": []
          },
          "execution_count": 24
        }
      ]
    },
    {
      "cell_type": "code",
      "metadata": {
        "colab": {
          "base_uri": "https://localhost:8080/",
          "height": 93
        },
        "id": "2MDRjAEaIHCB",
        "outputId": "fc0d0ccf-4026-434d-ed1b-8f93e4f3b5b1"
      },
      "source": [
        "#Utilib 1.4 cars\n",
        "%%sql\n",
        "SELECT \"Postal Code\", \"Public name\", COUNT(\"Postal Code\")\n",
        "FROM BlueCars\n",
        "WHERE \"Slots\" < 7 AND \"Utilib 1.4 counter\" > 0 AND \"hour\" = 21\n",
        "GROUP BY \"Postal Code\"\n",
        "ORDER BY COUNT(\"Postal Code\")\n",
        "DESC LIMIT 1;"
      ],
      "execution_count": 25,
      "outputs": [
        {
          "output_type": "stream",
          "text": [
            " * sqlite://\n",
            "Done.\n"
          ],
          "name": "stdout"
        },
        {
          "output_type": "execute_result",
          "data": {
            "text/html": [
              "<table>\n",
              "    <thead>\n",
              "        <tr>\n",
              "            <th>Postal code</th>\n",
              "            <th>Public name</th>\n",
              "            <th>COUNT(&quot;Postal Code&quot;)</th>\n",
              "        </tr>\n",
              "    </thead>\n",
              "    <tbody>\n",
              "        <tr>\n",
              "            <td>75014</td>\n",
              "            <td>Paris/Porte de Montrouge/8</td>\n",
              "            <td>5</td>\n",
              "        </tr>\n",
              "    </tbody>\n",
              "</table>"
            ],
            "text/plain": [
              "[(75014, 'Paris/Porte de Montrouge/8', 5)]"
            ]
          },
          "metadata": {
            "tags": []
          },
          "execution_count": 25
        }
      ]
    }
  ]
}